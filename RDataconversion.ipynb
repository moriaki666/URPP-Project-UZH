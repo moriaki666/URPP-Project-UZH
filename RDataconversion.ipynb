{
 "cells": [
  {
   "cell_type": "code",
   "execution_count": 14,
   "id": "9ba0698d-1b9e-423d-be4f-42dcc7f59087",
   "metadata": {},
   "outputs": [],
   "source": [
    "import pyreadr\n",
    "import pandas as pd\n"
   ]
  },
  {
   "cell_type": "code",
   "execution_count": 15,
   "id": "2daa2b0b-89e2-4248-9c8a-3dc34a0f2abb",
   "metadata": {},
   "outputs": [
    {
     "name": "stdout",
     "output_type": "stream",
     "text": [
      "DataFrame 'dtconvent':\n",
      "        id  year                                           item_raw  \\\n",
      "0        1  1475                                             C [5v]   \n",
      "1        2  1475  in dem 14xli iar ward ich, sr. Engel Varnbler...   \n",
      "2        3  1475  in dem lviiij iar fiengend wir ain gemaind ain...   \n",
      "3        4  1475  do wz priorin sr. Anna Krumin vnd sr. Vrsel Äb...   \n",
      "4        5  1475  in dem 14lxxvj iar starb nser erwirdigi mter...   \n",
      "...    ...   ...                                                ...   \n",
      "3319  3320  1528  man sol ns gelten kernnen 32 Costentzer mut 5...   \n",
      "3320  3321  1528  man sol vns gelten fesen 30 malter 5 fl., item...   \n",
      "3321  3322  1528          an gelt ingenom: 42 lb. 6 sz. 3 haller. 5   \n",
      "3322  3323  1528                    vssgen gelt: 38 lb. 4 sz. 4½ d.   \n",
      "3323  3324  1528  si hatt 4 lb. 1 sz. 9 d. ain gelt. [186r–187v ...   \n",
      "\n",
      "                                                   item  nchar  charcum  \\\n",
      "0                        <item_start> C [5v] <item_end>     30       30   \n",
      "1     <item_start> in dem 14xli iar ward ich, sr. En...    574      604   \n",
      "2     <item_start> in dem lviiij iar fiengend wir ai...    317      921   \n",
      "3     <item_start> do wz priorin sr. Anna Krumin vnd...    615     1536   \n",
      "4     <item_start> in dem 14lxxvj iar starb nser er...    192     1728   \n",
      "...                                                 ...    ...      ...   \n",
      "3319  <item_start> man sol ns gelten kernnen 32 Cos...     74   695733   \n",
      "3320  <item_start> man sol vns gelten fesen 30 malte...     93   695826   \n",
      "3321  <item_start> an gelt ingenom: 42 lb. 6 sz. 3 h...     65   695891   \n",
      "3322  <item_start> vssgen gelt: 38 lb. 4 sz. 4½ d. <...     55   695946   \n",
      "3323  <item_start> si hatt 4 lb. 1 sz. 9 d. ain gelt...     75   696021   \n",
      "\n",
      "      groupanalysis  \n",
      "0               1.0  \n",
      "1               1.0  \n",
      "2               1.0  \n",
      "3               2.0  \n",
      "4               2.0  \n",
      "...             ...  \n",
      "3319          233.0  \n",
      "3320          233.0  \n",
      "3321          233.0  \n",
      "3322          233.0  \n",
      "3323          233.0  \n",
      "\n",
      "[3324 rows x 7 columns]\n"
     ]
    }
   ],
   "source": [
    "# Read the RData file\n",
    "result = pyreadr.read_r('/Users/manaswimondol/Desktop/Jupyter Notebooks/convent_book.RData')\n",
    "\n",
    "# The result is a dictionary where keys are the name of objects\n",
    "# and values are pandas DataFrames\n",
    "for df_name, df in result.items():\n",
    "    print(f\"DataFrame '{df_name}':\")\n",
    "    print(df)"
   ]
  },
  {
   "cell_type": "code",
   "execution_count": 16,
   "id": "900f89ee-0099-451f-b093-5aaaa5176961",
   "metadata": {},
   "outputs": [],
   "source": [
    "df = next(iter(result.values()))\n",
    "\n",
    "# Save to CSV\n",
    "df.to_csv('your_file.csv', index=False)\n",
    "\n",
    "# Save to Excel\n",
    "df.to_excel('your_file.xlsx', index=False)"
   ]
  },
  {
   "cell_type": "code",
   "execution_count": null,
   "id": "88aaed16-932a-49f2-bf42-c0b7042df64a",
   "metadata": {},
   "outputs": [],
   "source": []
  }
 ],
 "metadata": {
  "kernelspec": {
   "display_name": "Python 3 (ipykernel)",
   "language": "python",
   "name": "python3"
  },
  "language_info": {
   "codemirror_mode": {
    "name": "ipython",
    "version": 3
   },
   "file_extension": ".py",
   "mimetype": "text/x-python",
   "name": "python",
   "nbconvert_exporter": "python",
   "pygments_lexer": "ipython3",
   "version": "3.12.4"
  }
 },
 "nbformat": 4,
 "nbformat_minor": 5
}
